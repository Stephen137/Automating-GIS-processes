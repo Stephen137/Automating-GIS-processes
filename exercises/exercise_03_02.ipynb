{
 "cells": [
  {
   "cell_type": "markdown",
   "metadata": {
    "deletable": false,
    "editable": false
   },
   "source": [
    "## Problem 2: Create buffers around shopping centers (7 points)\n",
    "\n",
    "Let’s continue with our case study and calculate a 1.5 km buffer around the geocoded points. "
   ]
  },
  {
   "cell_type": "markdown",
   "metadata": {
    "deletable": false,
    "editable": false
   },
   "source": [
    "### a) Load the shopping centre data set\n",
    "\n",
    "First, load the shopping centre *point* data set you created in *problem 1* into a `GeoDataFrame` called `shopping_centres`."
   ]
  },
  {
   "cell_type": "code",
   "execution_count": 1,
   "metadata": {},
   "outputs": [],
   "source": [
    "# ADD YOUR OWN CODE HERE\n",
    "\n",
    "import pandas as pd\n",
    "import geopandas as gpd\n",
    "\n",
    "import pathlib \n",
    "NOTEBOOK_PATH = pathlib.Path().resolve()\n",
    "DATA_DIRECTORY = NOTEBOOK_PATH / \"data\"\n",
    "\n",
    "shopping_centres = gpd.read_file(DATA_DIRECTORY / \"shopping_centres.gpkg\")"
   ]
  },
  {
   "cell_type": "code",
   "execution_count": 2,
   "metadata": {},
   "outputs": [
    {
     "data": {
      "text/plain": [
       "geopandas.geodataframe.GeoDataFrame"
      ]
     },
     "execution_count": 2,
     "metadata": {},
     "output_type": "execute_result"
    }
   ],
   "source": [
    "type(shopping_centres)"
   ]
  },
  {
   "cell_type": "code",
   "execution_count": 3,
   "metadata": {},
   "outputs": [
    {
     "data": {
      "text/html": [
       "<div>\n",
       "<style scoped>\n",
       "    .dataframe tbody tr th:only-of-type {\n",
       "        vertical-align: middle;\n",
       "    }\n",
       "\n",
       "    .dataframe tbody tr th {\n",
       "        vertical-align: top;\n",
       "    }\n",
       "\n",
       "    .dataframe thead th {\n",
       "        text-align: right;\n",
       "    }\n",
       "</style>\n",
       "<table border=\"1\" class=\"dataframe\">\n",
       "  <thead>\n",
       "    <tr style=\"text-align: right;\">\n",
       "      <th></th>\n",
       "      <th>address</th>\n",
       "      <th>id</th>\n",
       "      <th>name</th>\n",
       "      <th>addr</th>\n",
       "      <th>geometry</th>\n",
       "    </tr>\n",
       "  </thead>\n",
       "  <tbody>\n",
       "    <tr>\n",
       "      <th>0</th>\n",
       "      <td>Kauppakeskus Itis, 1-7, Itäkatu, Itäkeskus, Va...</td>\n",
       "      <td>1</td>\n",
       "      <td>Itis</td>\n",
       "      <td>Itäkatu 1-7, 00930 Helsinki, Finland</td>\n",
       "      <td>POINT (25504598.602 6677662.109)</td>\n",
       "    </tr>\n",
       "    <tr>\n",
       "      <th>1</th>\n",
       "      <td>Jungle Juice Bar, 14-20, Mannerheimintie, Kesk...</td>\n",
       "      <td>2</td>\n",
       "      <td>Forum</td>\n",
       "      <td>Mannerheimintie 14–20, 00100 Helsinki, Finland</td>\n",
       "      <td>POINT (25496547.460 6672895.008)</td>\n",
       "    </tr>\n",
       "    <tr>\n",
       "      <th>2</th>\n",
       "      <td>Iso Omena, 11, Piispansilta, Matinkylä, Suur-M...</td>\n",
       "      <td>3</td>\n",
       "      <td>Iso-omena</td>\n",
       "      <td>Piispansilta 11, 02230 Espoo, Finland</td>\n",
       "      <td>POINT (25485470.435 6672070.967)</td>\n",
       "    </tr>\n",
       "    <tr>\n",
       "      <th>3</th>\n",
       "      <td>Lasten kappeli Arkki, 3-9, Leppävaarankatu, Sä...</td>\n",
       "      <td>4</td>\n",
       "      <td>Sello</td>\n",
       "      <td>Leppävaarankatu 3-9, 02600 Espoo, Finland</td>\n",
       "      <td>POINT (25489491.076 6678322.265)</td>\n",
       "    </tr>\n",
       "    <tr>\n",
       "      <th>4</th>\n",
       "      <td>Stockmann, 3, Vantaanportinkatu, Vantaanportti...</td>\n",
       "      <td>5</td>\n",
       "      <td>Jumbo</td>\n",
       "      <td>Vantaanportinkatu 3, 01510 Vantaa, Finland</td>\n",
       "      <td>POINT (25497943.932 6686656.982)</td>\n",
       "    </tr>\n",
       "    <tr>\n",
       "      <th>5</th>\n",
       "      <td>Silta, 5, Hermannin rantatie, Suvilahti, Kalas...</td>\n",
       "      <td>6</td>\n",
       "      <td>REDI</td>\n",
       "      <td>Hermannin rantatie 5, 00580 Helsinki, Finland</td>\n",
       "      <td>POINT (25498837.156 6674909.983)</td>\n",
       "    </tr>\n",
       "    <tr>\n",
       "      <th>6</th>\n",
       "      <td>Mall of Tripla, 1, Fredikanterassi, Keski-Pasi...</td>\n",
       "      <td>7</td>\n",
       "      <td>Tripla</td>\n",
       "      <td>Mall of Tripla, Fredikanterassi 1, 00520 Helsi...</td>\n",
       "      <td>POINT (25496145.658 6676164.227)</td>\n",
       "    </tr>\n",
       "  </tbody>\n",
       "</table>\n",
       "</div>"
      ],
      "text/plain": [
       "                                             address  id       name  \\\n",
       "0  Kauppakeskus Itis, 1-7, Itäkatu, Itäkeskus, Va...   1       Itis   \n",
       "1  Jungle Juice Bar, 14-20, Mannerheimintie, Kesk...   2      Forum   \n",
       "2  Iso Omena, 11, Piispansilta, Matinkylä, Suur-M...   3  Iso-omena   \n",
       "3  Lasten kappeli Arkki, 3-9, Leppävaarankatu, Sä...   4      Sello   \n",
       "4  Stockmann, 3, Vantaanportinkatu, Vantaanportti...   5      Jumbo   \n",
       "5  Silta, 5, Hermannin rantatie, Suvilahti, Kalas...   6       REDI   \n",
       "6  Mall of Tripla, 1, Fredikanterassi, Keski-Pasi...   7     Tripla   \n",
       "\n",
       "                                                addr  \\\n",
       "0               Itäkatu 1-7, 00930 Helsinki, Finland   \n",
       "1     Mannerheimintie 14–20, 00100 Helsinki, Finland   \n",
       "2              Piispansilta 11, 02230 Espoo, Finland   \n",
       "3          Leppävaarankatu 3-9, 02600 Espoo, Finland   \n",
       "4         Vantaanportinkatu 3, 01510 Vantaa, Finland   \n",
       "5      Hermannin rantatie 5, 00580 Helsinki, Finland   \n",
       "6  Mall of Tripla, Fredikanterassi 1, 00520 Helsi...   \n",
       "\n",
       "                           geometry  \n",
       "0  POINT (25504598.602 6677662.109)  \n",
       "1  POINT (25496547.460 6672895.008)  \n",
       "2  POINT (25485470.435 6672070.967)  \n",
       "3  POINT (25489491.076 6678322.265)  \n",
       "4  POINT (25497943.932 6686656.982)  \n",
       "5  POINT (25498837.156 6674909.983)  \n",
       "6  POINT (25496145.658 6676164.227)  "
      ]
     },
     "execution_count": 3,
     "metadata": {},
     "output_type": "execute_result"
    }
   ],
   "source": [
    "shopping_centres"
   ]
  },
  {
   "cell_type": "code",
   "execution_count": 4,
   "metadata": {},
   "outputs": [
    {
     "data": {
      "text/plain": [
       "<AxesSubplot: >"
      ]
     },
     "execution_count": 4,
     "metadata": {},
     "output_type": "execute_result"
    },
    {
     "data": {
      "image/png": "[encoded data removed]",
      "text/plain": [
       "<Figure size 640x480 with 1 Axes>"
      ]
     },
     "metadata": {},
     "output_type": "display_data"
    }
   ],
   "source": [
    "shopping_centres.plot()"
   ]
  },
  {
   "cell_type": "markdown",
   "metadata": {
    "deletable": false,
    "editable": false
   },
   "source": [
    "\n",
    "---\n",
    "\n",
    "### b) Create a *buffer* around the points\n",
    "\n",
    "Calculate a 1.5 km buffer for each geocoded point. Overwrite the `geometry` column with the new buffer geometry.\n",
    "\n",
    "Use the [`geopandas.GeoDataFrame.buffer()` method](http://geopandas.org/geometric_manipulations.html#GeoSeries.buffer), that uses shapely’s [`buffer()`](http://toblerity.org/shapely/manual.html#object.buffer) in the background. You only need to care about the `distance` parameter, don’t worry about the possible other arguments."
   ]
  },
  {
   "cell_type": "code",
   "execution_count": 5,
   "metadata": {},
   "outputs": [
    {
     "data": {
      "text/html": [
       "<div>\n",
       "<style scoped>\n",
       "    .dataframe tbody tr th:only-of-type {\n",
       "        vertical-align: middle;\n",
       "    }\n",
       "\n",
       "    .dataframe tbody tr th {\n",
       "        vertical-align: top;\n",
       "    }\n",
       "\n",
       "    .dataframe thead th {\n",
       "        text-align: right;\n",
       "    }\n",
       "</style>\n",
       "<table border=\"1\" class=\"dataframe\">\n",
       "  <thead>\n",
       "    <tr style=\"text-align: right;\">\n",
       "      <th></th>\n",
       "      <th>address</th>\n",
       "      <th>id</th>\n",
       "      <th>name</th>\n",
       "      <th>addr</th>\n",
       "      <th>geometry</th>\n",
       "    </tr>\n",
       "  </thead>\n",
       "  <tbody>\n",
       "    <tr>\n",
       "      <th>0</th>\n",
       "      <td>Kauppakeskus Itis, 1-7, Itäkatu, Itäkeskus, Va...</td>\n",
       "      <td>1</td>\n",
       "      <td>Itis</td>\n",
       "      <td>Itäkatu 1-7, 00930 Helsinki, Finland</td>\n",
       "      <td>POLYGON ((25506098.602 6677662.109, 25506091.3...</td>\n",
       "    </tr>\n",
       "    <tr>\n",
       "      <th>1</th>\n",
       "      <td>Jungle Juice Bar, 14-20, Mannerheimintie, Kesk...</td>\n",
       "      <td>2</td>\n",
       "      <td>Forum</td>\n",
       "      <td>Mannerheimintie 14–20, 00100 Helsinki, Finland</td>\n",
       "      <td>POLYGON ((25498047.460 6672895.008, 25498040.2...</td>\n",
       "    </tr>\n",
       "    <tr>\n",
       "      <th>2</th>\n",
       "      <td>Iso Omena, 11, Piispansilta, Matinkylä, Suur-M...</td>\n",
       "      <td>3</td>\n",
       "      <td>Iso-omena</td>\n",
       "      <td>Piispansilta 11, 02230 Espoo, Finland</td>\n",
       "      <td>POLYGON ((25486970.435 6672070.967, 25486963.2...</td>\n",
       "    </tr>\n",
       "    <tr>\n",
       "      <th>3</th>\n",
       "      <td>Lasten kappeli Arkki, 3-9, Leppävaarankatu, Sä...</td>\n",
       "      <td>4</td>\n",
       "      <td>Sello</td>\n",
       "      <td>Leppävaarankatu 3-9, 02600 Espoo, Finland</td>\n",
       "      <td>POLYGON ((25490991.076 6678322.265, 25490983.8...</td>\n",
       "    </tr>\n",
       "    <tr>\n",
       "      <th>4</th>\n",
       "      <td>Stockmann, 3, Vantaanportinkatu, Vantaanportti...</td>\n",
       "      <td>5</td>\n",
       "      <td>Jumbo</td>\n",
       "      <td>Vantaanportinkatu 3, 01510 Vantaa, Finland</td>\n",
       "      <td>POLYGON ((25499443.932 6686656.982, 25499436.7...</td>\n",
       "    </tr>\n",
       "    <tr>\n",
       "      <th>5</th>\n",
       "      <td>Silta, 5, Hermannin rantatie, Suvilahti, Kalas...</td>\n",
       "      <td>6</td>\n",
       "      <td>REDI</td>\n",
       "      <td>Hermannin rantatie 5, 00580 Helsinki, Finland</td>\n",
       "      <td>POLYGON ((25500337.156 6674909.983, 25500329.9...</td>\n",
       "    </tr>\n",
       "    <tr>\n",
       "      <th>6</th>\n",
       "      <td>Mall of Tripla, 1, Fredikanterassi, Keski-Pasi...</td>\n",
       "      <td>7</td>\n",
       "      <td>Tripla</td>\n",
       "      <td>Mall of Tripla, Fredikanterassi 1, 00520 Helsi...</td>\n",
       "      <td>POLYGON ((25497645.658 6676164.227, 25497638.4...</td>\n",
       "    </tr>\n",
       "  </tbody>\n",
       "</table>\n",
       "</div>"
      ],
      "text/plain": [
       "                                             address  id       name  \\\n",
       "0  Kauppakeskus Itis, 1-7, Itäkatu, Itäkeskus, Va...   1       Itis   \n",
       "1  Jungle Juice Bar, 14-20, Mannerheimintie, Kesk...   2      Forum   \n",
       "2  Iso Omena, 11, Piispansilta, Matinkylä, Suur-M...   3  Iso-omena   \n",
       "3  Lasten kappeli Arkki, 3-9, Leppävaarankatu, Sä...   4      Sello   \n",
       "4  Stockmann, 3, Vantaanportinkatu, Vantaanportti...   5      Jumbo   \n",
       "5  Silta, 5, Hermannin rantatie, Suvilahti, Kalas...   6       REDI   \n",
       "6  Mall of Tripla, 1, Fredikanterassi, Keski-Pasi...   7     Tripla   \n",
       "\n",
       "                                                addr  \\\n",
       "0               Itäkatu 1-7, 00930 Helsinki, Finland   \n",
       "1     Mannerheimintie 14–20, 00100 Helsinki, Finland   \n",
       "2              Piispansilta 11, 02230 Espoo, Finland   \n",
       "3          Leppävaarankatu 3-9, 02600 Espoo, Finland   \n",
       "4         Vantaanportinkatu 3, 01510 Vantaa, Finland   \n",
       "5      Hermannin rantatie 5, 00580 Helsinki, Finland   \n",
       "6  Mall of Tripla, Fredikanterassi 1, 00520 Helsi...   \n",
       "\n",
       "                                            geometry  \n",
       "0  POLYGON ((25506098.602 6677662.109, 25506091.3...  \n",
       "1  POLYGON ((25498047.460 6672895.008, 25498040.2...  \n",
       "2  POLYGON ((25486970.435 6672070.967, 25486963.2...  \n",
       "3  POLYGON ((25490991.076 6678322.265, 25490983.8...  \n",
       "4  POLYGON ((25499443.932 6686656.982, 25499436.7...  \n",
       "5  POLYGON ((25500337.156 6674909.983, 25500329.9...  \n",
       "6  POLYGON ((25497645.658 6676164.227, 25497638.4...  "
      ]
     },
     "execution_count": 5,
     "metadata": {},
     "output_type": "execute_result"
    }
   ],
   "source": [
    "# ADD YOUR OWN CODE HERE\n",
    "shopping_centres[\"geometry\"] = shopping_centres.buffer(distance=1500)\n",
    "shopping_centres"
   ]
  },
  {
   "cell_type": "code",
   "execution_count": 6,
   "metadata": {
    "deletable": false,
    "editable": false
   },
   "outputs": [],
   "source": [
    "# NON-EDITABLE CODE CELL FOR TESTING YOUR SOLUTION\n",
    "assert shopping_centres.geometry.geom_type.unique() == [\"Polygon\"]"
   ]
  },
  {
   "cell_type": "markdown",
   "metadata": {
    "deletable": false,
    "editable": false
   },
   "source": [
    "\n",
    "---\n",
    "\n",
    "### d) Save buffer geometry layer\n",
    "\n",
    "Save the data frame containing the buffer geometries into a new layer `buffers` inside the same *GeoPackage* `shopping_centres.gpkg`:"
   ]
  },
  {
   "cell_type": "code",
   "execution_count": 7,
   "metadata": {},
   "outputs": [],
   "source": [
    "# ADD YOUR OWN CODE HERE\n",
    "\n",
    "shopping_centres.to_file(DATA_DIRECTORY / \"shopping_centres.gpkg\", layer=\"buffers\")"
   ]
  },
  {
   "cell_type": "code",
   "execution_count": null,
   "metadata": {},
   "outputs": [],
   "source": []
  }
 ],
 "metadata": {
  "anaconda-cloud": {},
  "kernelspec": {
   "display_name": "Python 3 (ipykernel)",
   "language": "python",
   "name": "python3"
  },
  "language_info": {
   "codemirror_mode": {
    "name": "ipython",
    "version": 3
   },
   "file_extension": ".py",
   "mimetype": "text/x-python",
   "name": "python",
   "nbconvert_exporter": "python",
   "pygments_lexer": "ipython3",
   "version": "3.10.8"
  }
 },
 "nbformat": 4,
 "nbformat_minor": 4
}

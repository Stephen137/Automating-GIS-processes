{
 "cells": [
  {
   "cell_type": "markdown",
   "metadata": {
    "deletable": false,
    "editable": false
   },
   "source": [
    "## Problem 2: Create buffers around shopping centers (7 points)\n",
    "\n",
    "Let’s continue with our case study and calculate a 1.5 km buffer around the geocoded points. "
   ]
  },
  {
   "cell_type": "markdown",
   "metadata": {
    "deletable": false,
    "editable": false
   },
   "source": [
    "### a) Load the shopping centre data set\n",
    "\n",
    "First, load the shopping centre *point* data set you created in *problem 1* into a `GeoDataFrame` called `shopping_centres`."
   ]
  },
  {
   "cell_type": "code",
   "execution_count": 1,
   "metadata": {},
   "outputs": [],
   "source": [
    "# ADD YOUR OWN CODE HERE\n",
    "\n",
    "import pandas as pd\n",
    "import geopandas as gpd\n",
    "\n",
    "import pathlib \n",
    "NOTEBOOK_PATH = pathlib.Path().resolve()\n",
    "DATA_DIRECTORY = NOTEBOOK_PATH / \"data\"\n",
    "\n",
    "shopping_centres = gpd.read_file(DATA_DIRECTORY / \"shopping_centres.gpkg\")"
   ]
  },
  {
   "cell_type": "code",
   "execution_count": 2,
   "metadata": {},
   "outputs": [
    {
     "data": {
      "text/plain": [
       "geopandas.geodataframe.GeoDataFrame"
      ]
     },
     "execution_count": 2,
     "metadata": {},
     "output_type": "execute_result"
    }
   ],
   "source": [
    "type(shopping_centres)"
   ]
  },
  {
   "cell_type": "code",
   "execution_count": 3,
   "metadata": {},
   "outputs": [
    {
     "data": {
      "text/html": [
       "<div>\n",
       "<style scoped>\n",
       "    .dataframe tbody tr th:only-of-type {\n",
       "        vertical-align: middle;\n",
       "    }\n",
       "\n",
       "    .dataframe tbody tr th {\n",
       "        vertical-align: top;\n",
       "    }\n",
       "\n",
       "    .dataframe thead th {\n",
       "        text-align: right;\n",
       "    }\n",
       "</style>\n",
       "<table border=\"1\" class=\"dataframe\">\n",
       "  <thead>\n",
       "    <tr style=\"text-align: right;\">\n",
       "      <th></th>\n",
       "      <th>address</th>\n",
       "      <th>id</th>\n",
       "      <th>name</th>\n",
       "      <th>addr</th>\n",
       "      <th>geometry</th>\n",
       "    </tr>\n",
       "  </thead>\n",
       "  <tbody>\n",
       "    <tr>\n",
       "      <th>0</th>\n",
       "      <td>Galeria Krakowska, 5, Pawia, Wesoła, Stare Mia...</td>\n",
       "      <td>1</td>\n",
       "      <td>Galeria Krakowska</td>\n",
       "      <td>Pawia 5, 31-154 Kraków, Poland</td>\n",
       "      <td>POINT (25138251.060 5560613.785)</td>\n",
       "    </tr>\n",
       "    <tr>\n",
       "      <th>1</th>\n",
       "      <td>Bonarka City Center, 11, Generała Henryka Kami...</td>\n",
       "      <td>2</td>\n",
       "      <td>Centrum Handlowe Bonarka</td>\n",
       "      <td>Henryka Kamieńskiego 11, 30-644 Kraków, Poland</td>\n",
       "      <td>POINT (25138280.056 5556188.048)</td>\n",
       "    </tr>\n",
       "    <tr>\n",
       "      <th>2</th>\n",
       "      <td>Biedronka, 46, Siewna, Prądnik Biały, Kraków, ...</td>\n",
       "      <td>3</td>\n",
       "      <td>Centrum Siewna</td>\n",
       "      <td>Siewna 46, 31-231 Kraków, Poland</td>\n",
       "      <td>POINT (25138616.805 5563799.309)</td>\n",
       "    </tr>\n",
       "    <tr>\n",
       "      <th>3</th>\n",
       "      <td>Galeria Bronowice, 61, Stawowa, Bronowice Wiel...</td>\n",
       "      <td>4</td>\n",
       "      <td>Bronowice Mall</td>\n",
       "      <td>Stawowa 61, 31-346 Kraków, Poland</td>\n",
       "      <td>POINT (25135013.131 5563569.613)</td>\n",
       "    </tr>\n",
       "    <tr>\n",
       "      <th>4</th>\n",
       "      <td>Cinema City, 62, Zakopiańska, Borek Fałęcki, Ł...</td>\n",
       "      <td>5</td>\n",
       "      <td>Park Handlowy Zakopianka</td>\n",
       "      <td>Zakopiańska 62, 30-418 Kraków, Poland</td>\n",
       "      <td>POINT (25136754.156 5555011.892)</td>\n",
       "    </tr>\n",
       "    <tr>\n",
       "      <th>5</th>\n",
       "      <td>mBank, 67, Aleja Pokoju, Beszcz, Łęg, Czyżyny,...</td>\n",
       "      <td>6</td>\n",
       "      <td>M1 Krakow</td>\n",
       "      <td>Aleja Pokoju 67, 31-580 Kraków, Poland</td>\n",
       "      <td>POINT (25142006.343 5559966.534)</td>\n",
       "    </tr>\n",
       "    <tr>\n",
       "      <th>6</th>\n",
       "      <td>1, Aleja Zygmunta Krasińskiego, Zwierzyniec, K...</td>\n",
       "      <td>7</td>\n",
       "      <td>Jubilat</td>\n",
       "      <td>Aleja Zygmunta Krasińskiego 1, 31-111 Kraków, ...</td>\n",
       "      <td>POINT (25136834.711 5559383.795)</td>\n",
       "    </tr>\n",
       "  </tbody>\n",
       "</table>\n",
       "</div>"
      ],
      "text/plain": [
       "                                             address  id  \\\n",
       "0  Galeria Krakowska, 5, Pawia, Wesoła, Stare Mia...   1   \n",
       "1  Bonarka City Center, 11, Generała Henryka Kami...   2   \n",
       "2  Biedronka, 46, Siewna, Prądnik Biały, Kraków, ...   3   \n",
       "3  Galeria Bronowice, 61, Stawowa, Bronowice Wiel...   4   \n",
       "4  Cinema City, 62, Zakopiańska, Borek Fałęcki, Ł...   5   \n",
       "5  mBank, 67, Aleja Pokoju, Beszcz, Łęg, Czyżyny,...   6   \n",
       "6  1, Aleja Zygmunta Krasińskiego, Zwierzyniec, K...   7   \n",
       "\n",
       "                       name  \\\n",
       "0         Galeria Krakowska   \n",
       "1  Centrum Handlowe Bonarka   \n",
       "2            Centrum Siewna   \n",
       "3            Bronowice Mall   \n",
       "4  Park Handlowy Zakopianka   \n",
       "5                 M1 Krakow   \n",
       "6                   Jubilat   \n",
       "\n",
       "                                                addr  \\\n",
       "0                     Pawia 5, 31-154 Kraków, Poland   \n",
       "1     Henryka Kamieńskiego 11, 30-644 Kraków, Poland   \n",
       "2                   Siewna 46, 31-231 Kraków, Poland   \n",
       "3                  Stawowa 61, 31-346 Kraków, Poland   \n",
       "4              Zakopiańska 62, 30-418 Kraków, Poland   \n",
       "5             Aleja Pokoju 67, 31-580 Kraków, Poland   \n",
       "6  Aleja Zygmunta Krasińskiego 1, 31-111 Kraków, ...   \n",
       "\n",
       "                           geometry  \n",
       "0  POINT (25138251.060 5560613.785)  \n",
       "1  POINT (25138280.056 5556188.048)  \n",
       "2  POINT (25138616.805 5563799.309)  \n",
       "3  POINT (25135013.131 5563569.613)  \n",
       "4  POINT (25136754.156 5555011.892)  \n",
       "5  POINT (25142006.343 5559966.534)  \n",
       "6  POINT (25136834.711 5559383.795)  "
      ]
     },
     "execution_count": 3,
     "metadata": {},
     "output_type": "execute_result"
    }
   ],
   "source": [
    "shopping_centres"
   ]
  },
  {
   "cell_type": "code",
   "execution_count": 4,
   "metadata": {},
   "outputs": [
    {
     "data": {
      "text/plain": [
       "<AxesSubplot: >"
      ]
     },
     "execution_count": 4,
     "metadata": {},
     "output_type": "execute_result"
    },
    {
     "data": {
      "image/png": "[encoded data removed]",
      "text/plain": [
       "<Figure size 640x480 with 1 Axes>"
      ]
     },
     "metadata": {},
     "output_type": "display_data"
    }
   ],
   "source": [
    "shopping_centres.plot()"
   ]
  },
  {
   "cell_type": "markdown",
   "metadata": {
    "deletable": false,
    "editable": false
   },
   "source": [
    "\n",
    "---\n",
    "\n",
    "### b) Create a *buffer* around the points\n",
    "\n",
    "Calculate a 1.5 km buffer for each geocoded point. Overwrite the `geometry` column with the new buffer geometry.\n",
    "\n",
    "Use the [`geopandas.GeoDataFrame.buffer()` method](http://geopandas.org/geometric_manipulations.html#GeoSeries.buffer), that uses shapely’s [`buffer()`](http://toblerity.org/shapely/manual.html#object.buffer) in the background. You only need to care about the `distance` parameter, don’t worry about the possible other arguments."
   ]
  },
  {
   "cell_type": "code",
   "execution_count": 10,
   "metadata": {},
   "outputs": [
    {
     "data": {
      "text/html": [
       "<div>\n",
       "<style scoped>\n",
       "    .dataframe tbody tr th:only-of-type {\n",
       "        vertical-align: middle;\n",
       "    }\n",
       "\n",
       "    .dataframe tbody tr th {\n",
       "        vertical-align: top;\n",
       "    }\n",
       "\n",
       "    .dataframe thead th {\n",
       "        text-align: right;\n",
       "    }\n",
       "</style>\n",
       "<table border=\"1\" class=\"dataframe\">\n",
       "  <thead>\n",
       "    <tr style=\"text-align: right;\">\n",
       "      <th></th>\n",
       "      <th>address</th>\n",
       "      <th>id</th>\n",
       "      <th>name</th>\n",
       "      <th>addr</th>\n",
       "      <th>geometry</th>\n",
       "    </tr>\n",
       "  </thead>\n",
       "  <tbody>\n",
       "    <tr>\n",
       "      <th>0</th>\n",
       "      <td>Galeria Krakowska, 5, Pawia, Wesoła, Stare Mia...</td>\n",
       "      <td>1</td>\n",
       "      <td>Galeria Krakowska</td>\n",
       "      <td>Pawia 5, 31-154 Kraków, Poland</td>\n",
       "      <td>POLYGON ((25141249.253 5560687.387, 25141249.2...</td>\n",
       "    </tr>\n",
       "    <tr>\n",
       "      <th>1</th>\n",
       "      <td>Bonarka City Center, 11, Generała Henryka Kami...</td>\n",
       "      <td>2</td>\n",
       "      <td>Centrum Handlowe Bonarka</td>\n",
       "      <td>Henryka Kamieńskiego 11, 30-644 Kraków, Poland</td>\n",
       "      <td>POLYGON ((25141278.249 5556261.649, 25141278.2...</td>\n",
       "    </tr>\n",
       "    <tr>\n",
       "      <th>2</th>\n",
       "      <td>Biedronka, 46, Siewna, Prądnik Biały, Kraków, ...</td>\n",
       "      <td>3</td>\n",
       "      <td>Centrum Siewna</td>\n",
       "      <td>Siewna 46, 31-231 Kraków, Poland</td>\n",
       "      <td>POLYGON ((25141614.998 5563872.911, 25141614.9...</td>\n",
       "    </tr>\n",
       "    <tr>\n",
       "      <th>3</th>\n",
       "      <td>Galeria Bronowice, 61, Stawowa, Bronowice Wiel...</td>\n",
       "      <td>4</td>\n",
       "      <td>Bronowice Mall</td>\n",
       "      <td>Stawowa 61, 31-346 Kraków, Poland</td>\n",
       "      <td>POLYGON ((25138011.324 5563643.214, 25138011.3...</td>\n",
       "    </tr>\n",
       "    <tr>\n",
       "      <th>4</th>\n",
       "      <td>Cinema City, 62, Zakopiańska, Borek Fałęcki, Ł...</td>\n",
       "      <td>5</td>\n",
       "      <td>Park Handlowy Zakopianka</td>\n",
       "      <td>Zakopiańska 62, 30-418 Kraków, Poland</td>\n",
       "      <td>POLYGON ((25139752.350 5555085.494, 25139752.3...</td>\n",
       "    </tr>\n",
       "    <tr>\n",
       "      <th>5</th>\n",
       "      <td>mBank, 67, Aleja Pokoju, Beszcz, Łęg, Czyżyny,...</td>\n",
       "      <td>6</td>\n",
       "      <td>M1 Krakow</td>\n",
       "      <td>Aleja Pokoju 67, 31-580 Kraków, Poland</td>\n",
       "      <td>POLYGON ((25145004.536 5560040.135, 25145004.5...</td>\n",
       "    </tr>\n",
       "    <tr>\n",
       "      <th>6</th>\n",
       "      <td>1, Aleja Zygmunta Krasińskiego, Zwierzyniec, K...</td>\n",
       "      <td>7</td>\n",
       "      <td>Jubilat</td>\n",
       "      <td>Aleja Zygmunta Krasińskiego 1, 31-111 Kraków, ...</td>\n",
       "      <td>POLYGON ((25139832.904 5559457.396, 25139832.9...</td>\n",
       "    </tr>\n",
       "  </tbody>\n",
       "</table>\n",
       "</div>"
      ],
      "text/plain": [
       "                                             address  id  \\\n",
       "0  Galeria Krakowska, 5, Pawia, Wesoła, Stare Mia...   1   \n",
       "1  Bonarka City Center, 11, Generała Henryka Kami...   2   \n",
       "2  Biedronka, 46, Siewna, Prądnik Biały, Kraków, ...   3   \n",
       "3  Galeria Bronowice, 61, Stawowa, Bronowice Wiel...   4   \n",
       "4  Cinema City, 62, Zakopiańska, Borek Fałęcki, Ł...   5   \n",
       "5  mBank, 67, Aleja Pokoju, Beszcz, Łęg, Czyżyny,...   6   \n",
       "6  1, Aleja Zygmunta Krasińskiego, Zwierzyniec, K...   7   \n",
       "\n",
       "                       name  \\\n",
       "0         Galeria Krakowska   \n",
       "1  Centrum Handlowe Bonarka   \n",
       "2            Centrum Siewna   \n",
       "3            Bronowice Mall   \n",
       "4  Park Handlowy Zakopianka   \n",
       "5                 M1 Krakow   \n",
       "6                   Jubilat   \n",
       "\n",
       "                                                addr  \\\n",
       "0                     Pawia 5, 31-154 Kraków, Poland   \n",
       "1     Henryka Kamieńskiego 11, 30-644 Kraków, Poland   \n",
       "2                   Siewna 46, 31-231 Kraków, Poland   \n",
       "3                  Stawowa 61, 31-346 Kraków, Poland   \n",
       "4              Zakopiańska 62, 30-418 Kraków, Poland   \n",
       "5             Aleja Pokoju 67, 31-580 Kraków, Poland   \n",
       "6  Aleja Zygmunta Krasińskiego 1, 31-111 Kraków, ...   \n",
       "\n",
       "                                            geometry  \n",
       "0  POLYGON ((25141249.253 5560687.387, 25141249.2...  \n",
       "1  POLYGON ((25141278.249 5556261.649, 25141278.2...  \n",
       "2  POLYGON ((25141614.998 5563872.911, 25141614.9...  \n",
       "3  POLYGON ((25138011.324 5563643.214, 25138011.3...  \n",
       "4  POLYGON ((25139752.350 5555085.494, 25139752.3...  \n",
       "5  POLYGON ((25145004.536 5560040.135, 25145004.5...  \n",
       "6  POLYGON ((25139832.904 5559457.396, 25139832.9...  "
      ]
     },
     "execution_count": 10,
     "metadata": {},
     "output_type": "execute_result"
    }
   ],
   "source": [
    "# ADD YOUR OWN CODE HERE\n",
    "shopping_centres[\"geometry\"] = shopping_centres.buffer(distance=1500)\n",
    "shopping_centres"
   ]
  },
  {
   "cell_type": "code",
   "execution_count": 9,
   "metadata": {
    "deletable": false,
    "editable": false
   },
   "outputs": [],
   "source": [
    "# NON-EDITABLE CODE CELL FOR TESTING YOUR SOLUTION\n",
    "assert shopping_centres.geometry.geom_type.unique() == [\"Polygon\"]"
   ]
  },
  {
   "cell_type": "markdown",
   "metadata": {
    "deletable": false,
    "editable": false
   },
   "source": [
    "\n",
    "---\n",
    "\n",
    "### d) Save buffer geometry layer\n",
    "\n",
    "Save the data frame containing the buffer geometries into a new layer `buffers` inside the same *GeoPackage* `shopping_centres.gpkg`:"
   ]
  },
  {
   "cell_type": "code",
   "execution_count": 11,
   "metadata": {},
   "outputs": [],
   "source": [
    "# ADD YOUR OWN CODE HERE\n",
    "\n",
    "shopping_centres.to_file(DATA_DIRECTORY / \"shopping_centres.gpkg\", layer=\"buffers\")"
   ]
  },
  {
   "cell_type": "code",
   "execution_count": null,
   "metadata": {},
   "outputs": [],
   "source": []
  }
 ],
 "metadata": {
  "anaconda-cloud": {},
  "kernelspec": {
   "display_name": "Python 3 (ipykernel)",
   "language": "python",
   "name": "python3"
  },
  "language_info": {
   "codemirror_mode": {
    "name": "ipython",
    "version": 3
   },
   "file_extension": ".py",
   "mimetype": "text/x-python",
   "name": "python",
   "nbconvert_exporter": "python",
   "pygments_lexer": "ipython3",
   "version": "3.10.8"
  }
 },
 "nbformat": 4,
 "nbformat_minor": 4
}
